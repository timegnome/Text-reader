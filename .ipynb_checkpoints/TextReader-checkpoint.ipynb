{
 "cells": [
  {
   "cell_type": "code",
   "execution_count": null,
   "metadata": {},
   "outputs": [],
   "source": [
    "# Syntax: PIL.ImageGrab.garb(bbox=None)\n",
    "\n",
    "# parameters: \n",
    "# bbox: What region to copy. Default is the entire screen.\n",
    "\n",
    "# Returns: An image\n",
    "# Importing Image and ImageGrab module from PIL package  \n",
    "from PIL import Image, ImageGrab \n",
    "import os\n",
    "import cv2\n",
    "import pytesseract\n",
    "# creating an image object\n",
    "path = os.path.join('Resources','Test.JPG')\n",
    "pytesseract.pytesseract.tesseract_cmd = 'C:\\Program Files\\Tesseract-OCR\\\\tesseract.exe'\n",
    "# pytesseract.pytesseract.tesseract_cmd"
   ]
  },
  {
   "cell_type": "code",
   "execution_count": 73,
   "metadata": {},
   "outputs": [],
   "source": [
    "text = \"\""
   ]
  },
  {
   "cell_type": "code",
   "execution_count": 75,
   "metadata": {},
   "outputs": [
    {
     "name": "stdout",
     "output_type": "stream",
     "text": [
      "Wallace was surprised to hear about Yumi's findings..._ Lnat's very impressive... YOu Managed to determine all OF this due to the D1ood leit by the headmaster\n",
      "and the Sealed Mana Artifact that wac Jefte\"\n"
     ]
    }
   ],
   "source": [
    "im2 = ImageGrab.grab(bbox = (120, 230, 1250, 280)) \n",
    "# im2.show()\n",
    "text = text+pytesseract.image_to_string(im2)\n",
    "print(text)\n",
    "# Chapter = []\n",
    "# Chapter.append(text)\n",
    "# print(chapter)"
   ]
  },
  {
   "cell_type": "code",
   "execution_count": 16,
   "metadata": {},
   "outputs": [],
   "source": [
    "# im1 = Image.open(path) \n",
    "# help('modules')"
   ]
  },
  {
   "cell_type": "code",
   "execution_count": 19,
   "metadata": {},
   "outputs": [],
   "source": [
    "# img = Image.new('RGB', (60, 30), color = 'red')\n",
    "# img.save('pil_red.png')\n",
    "# using the grab method \n",
    "# (0, 0, 300, 300)\n",
    "im2 = ImageGrab.grab(bbox = (0, 220, 900, 320)) \n",
    "    \n",
    "# text = pytesseract.image_to_string(im2)\n",
    "# print(text)"
   ]
  },
  {
   "cell_type": "code",
   "execution_count": 156,
   "metadata": {},
   "outputs": [
    {
     "ename": "HTTPError",
     "evalue": "403 Client Error: Forbidden for url: https://www.wuxiaworld.com/account/login?User-Agent=Mozilla%2F5.0+%28Windows+NT+10.0%3B+Win64%3B+x64%3B+rv%3A77.0%29+Gecko%2F20100101+Firefox%2F77.0&Referer=Referer%3A+https%3A%2F%2Fwww.wuxiaworld.com%2Fprofile%2Fbookmarks",
     "output_type": "error",
     "traceback": [
      "\u001b[1;31m---------------------------------------------------------------------------\u001b[0m",
      "\u001b[1;31mHTTPError\u001b[0m                                 Traceback (most recent call last)",
      "\u001b[1;32m<ipython-input-156-0e301ed00a97>\u001b[0m in \u001b[0;36m<module>\u001b[1;34m\u001b[0m\n\u001b[0;32m      5\u001b[0m \u001b[0mheader\u001b[0m \u001b[1;33m=\u001b[0m \u001b[1;33m{\u001b[0m\u001b[1;34m'User-Agent'\u001b[0m\u001b[1;33m:\u001b[0m \u001b[1;34m'Mozilla/5.0 (Windows NT 10.0; Win64; x64; rv:77.0) Gecko/20100101 Firefox/77.0'\u001b[0m\u001b[1;33m,\u001b[0m\u001b[1;34m'Referer'\u001b[0m\u001b[1;33m:\u001b[0m\u001b[1;34m'Referer: https://www.wuxiaworld.com/profile/bookmarks'\u001b[0m\u001b[1;33m}\u001b[0m\u001b[1;33m\u001b[0m\u001b[1;33m\u001b[0m\u001b[0m\n\u001b[0;32m      6\u001b[0m \u001b[0mr\u001b[0m \u001b[1;33m=\u001b[0m \u001b[0mrequests\u001b[0m\u001b[1;33m.\u001b[0m\u001b[0mget\u001b[0m\u001b[1;33m(\u001b[0m\u001b[0murl\u001b[0m\u001b[1;33m,\u001b[0m\u001b[0mheader\u001b[0m\u001b[1;33m,\u001b[0m\u001b[0mtimeout\u001b[0m \u001b[1;33m=\u001b[0m \u001b[1;36m1\u001b[0m\u001b[1;33m)\u001b[0m\u001b[1;33m\u001b[0m\u001b[1;33m\u001b[0m\u001b[0m\n\u001b[1;32m----> 7\u001b[1;33m \u001b[0mr\u001b[0m\u001b[1;33m.\u001b[0m\u001b[0mraise_for_status\u001b[0m\u001b[1;33m(\u001b[0m\u001b[1;33m)\u001b[0m\u001b[1;33m\u001b[0m\u001b[1;33m\u001b[0m\u001b[0m\n\u001b[0m\u001b[0;32m      8\u001b[0m \u001b[1;31m# r.history\u001b[0m\u001b[1;33m\u001b[0m\u001b[1;33m\u001b[0m\u001b[1;33m\u001b[0m\u001b[0m\n",
      "\u001b[1;32mC:\\ProgramData\\Anaconda3\\lib\\site-packages\\requests\\models.py\u001b[0m in \u001b[0;36mraise_for_status\u001b[1;34m(self)\u001b[0m\n\u001b[0;32m    938\u001b[0m \u001b[1;33m\u001b[0m\u001b[0m\n\u001b[0;32m    939\u001b[0m         \u001b[1;32mif\u001b[0m \u001b[0mhttp_error_msg\u001b[0m\u001b[1;33m:\u001b[0m\u001b[1;33m\u001b[0m\u001b[1;33m\u001b[0m\u001b[0m\n\u001b[1;32m--> 940\u001b[1;33m             \u001b[1;32mraise\u001b[0m \u001b[0mHTTPError\u001b[0m\u001b[1;33m(\u001b[0m\u001b[0mhttp_error_msg\u001b[0m\u001b[1;33m,\u001b[0m \u001b[0mresponse\u001b[0m\u001b[1;33m=\u001b[0m\u001b[0mself\u001b[0m\u001b[1;33m)\u001b[0m\u001b[1;33m\u001b[0m\u001b[1;33m\u001b[0m\u001b[0m\n\u001b[0m\u001b[0;32m    941\u001b[0m \u001b[1;33m\u001b[0m\u001b[0m\n\u001b[0;32m    942\u001b[0m     \u001b[1;32mdef\u001b[0m \u001b[0mclose\u001b[0m\u001b[1;33m(\u001b[0m\u001b[0mself\u001b[0m\u001b[1;33m)\u001b[0m\u001b[1;33m:\u001b[0m\u001b[1;33m\u001b[0m\u001b[1;33m\u001b[0m\u001b[0m\n",
      "\u001b[1;31mHTTPError\u001b[0m: 403 Client Error: Forbidden for url: https://www.wuxiaworld.com/account/login?User-Agent=Mozilla%2F5.0+%28Windows+NT+10.0%3B+Win64%3B+x64%3B+rv%3A77.0%29+Gecko%2F20100101+Firefox%2F77.0&Referer=Referer%3A+https%3A%2F%2Fwww.wuxiaworld.com%2Fprofile%2Fbookmarks"
     ]
    }
   ],
   "source": [
    "import requests\n",
    "import re\n",
    "url = 'https://www.wuxiaworld.com/account/login'\n",
    "\n",
    "header = {'User-Agent': 'Mozilla/5.0 (Windows NT 10.0; Win64; x64; rv:77.0) Gecko/20100101 Firefox/77.0','Referer':'Referer: https://www.wuxiaworld.com/profile/bookmarks'}\n",
    "r = requests.get(url,header,timeout = 1)\n",
    "r.raise_for_status()\n",
    "# r.history"
   ]
  },
  {
   "cell_type": "code",
   "execution_count": 91,
   "metadata": {},
   "outputs": [
    {
     "data": {
      "text/plain": [
       "'text/html; charset=UTF-8'"
      ]
     },
     "execution_count": 91,
     "metadata": {},
     "output_type": "execute_result"
    }
   ],
   "source": [
    "r.headers['content-type']"
   ]
  },
  {
   "cell_type": "code",
   "execution_count": 142,
   "metadata": {},
   "outputs": [],
   "source": [
    "from bs4 import BeautifulSoup\n",
    "soup = BeautifulSoup(r.content,'html.parser')"
   ]
  },
  {
   "cell_type": "code",
   "execution_count": 144,
   "metadata": {},
   "outputs": [],
   "source": [
    "text = soup.find_all(text=True)"
   ]
  },
  {
   "cell_type": "code",
   "execution_count": 145,
   "metadata": {},
   "outputs": [
    {
     "data": {
      "text/plain": [
       "['html',\n",
       " '\\n',\n",
       " '[if lt IE 7]> <html class=\"no-js ie6 oldie\" lang=\"en-US\"> <![endif]',\n",
       " '\\n',\n",
       " '[if IE 7]>    <html class=\"no-js ie7 oldie\" lang=\"en-US\"> <![endif]',\n",
       " '\\n',\n",
       " '[if IE 8]>    <html class=\"no-js ie8 oldie\" lang=\"en-US\"> <![endif]',\n",
       " '\\n',\n",
       " '[if gt IE 8]><!',\n",
       " ' ',\n",
       " ' ',\n",
       " '<![endif]',\n",
       " '\\n',\n",
       " '\\n',\n",
       " 'Access denied | www.wuxiaworld.com used Cloudflare to restrict access',\n",
       " '\\n',\n",
       " '\\n',\n",
       " '\\n',\n",
       " '\\n',\n",
       " '\\n',\n",
       " '\\n',\n",
       " '\\n',\n",
       " '[if lt IE 9]><link rel=\"stylesheet\" id=\\'cf_styles-ie-css\\' href=\"/cdn-cgi/styles/cf.errors.ie.css\" type=\"text/css\" media=\"screen,projection\" /><![endif]',\n",
       " '\\n',\n",
       " 'body{margin:0;padding:0}',\n",
       " '\\n',\n",
       " '[if gte IE 10]><!',\n",
       " '<![endif]',\n",
       " '\\n',\n",
       " '[if gte IE 10]><!',\n",
       " '<![endif]',\n",
       " '\\n',\n",
       " '\\n',\n",
       " '\\n',\n",
       " '\\n',\n",
       " 'Please enable cookies.',\n",
       " '\\n',\n",
       " '\\n',\n",
       " '\\n',\n",
       " '\\n',\n",
       " 'Error',\n",
       " '\\n',\n",
       " '1020',\n",
       " '\\n',\n",
       " 'Ray ID: 5aaba521a8977800 • 2020-06-29 00:48:59 UTC',\n",
       " '\\n',\n",
       " '\\n',\n",
       " 'Access denied',\n",
       " '\\n',\n",
       " '\\n',\n",
       " '\\n',\n",
       " '\\n',\n",
       " '\\n',\n",
       " '\\n',\n",
       " 'What happened?',\n",
       " '\\n',\n",
       " 'This website is using a security service to protect itself from online attacks.',\n",
       " '\\n',\n",
       " '\\n',\n",
       " '\\n',\n",
       " '\\n',\n",
       " '\\n',\n",
       " '\\n',\n",
       " 'Cloudflare Ray ID: ',\n",
       " '5aaba521a8977800',\n",
       " '\\n',\n",
       " '•',\n",
       " '\\n',\n",
       " 'Your IP',\n",
       " ': 2607:fb90:4e9f:7771:8cc0:f862:4564:8215',\n",
       " '\\n',\n",
       " '•',\n",
       " '\\n',\n",
       " 'Performance & security by',\n",
       " ' ',\n",
       " 'Cloudflare',\n",
       " '\\n',\n",
       " '\\n',\n",
       " '\\n',\n",
       " '\\n',\n",
       " '\\n',\n",
       " '\\n  window._cf_translation = {};\\n  \\n  \\n',\n",
       " '\\n',\n",
       " '\\n',\n",
       " '\\n']"
      ]
     },
     "execution_count": 145,
     "metadata": {},
     "output_type": "execute_result"
    }
   ],
   "source": [
    "text"
   ]
  },
  {
   "cell_type": "code",
   "execution_count": null,
   "metadata": {},
   "outputs": [],
   "source": []
  }
 ],
 "metadata": {
  "kernelspec": {
   "display_name": "Python 3",
   "language": "python",
   "name": "python3"
  },
  "language_info": {
   "codemirror_mode": {
    "name": "ipython",
    "version": 3
   },
   "file_extension": ".py",
   "mimetype": "text/x-python",
   "name": "python",
   "nbconvert_exporter": "python",
   "pygments_lexer": "ipython3",
   "version": "3.7.6"
  }
 },
 "nbformat": 4,
 "nbformat_minor": 4
}
