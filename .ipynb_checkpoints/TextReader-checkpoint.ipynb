{
 "cells": [
  {
   "cell_type": "code",
   "execution_count": null,
   "metadata": {},
   "outputs": [],
   "source": [
    "from splinter import Browser\n",
    "from bs4 import BeautifulSoup\n",
    "from webdriver_manager.chrome import ChromeDriverManager\n",
    "import re\n",
    "import pandas as pd\n",
    "import time\n",
    "import requests\n",
    "# import base64, os"
   ]
  },
  {
   "cell_type": "code",
   "execution_count": null,
   "metadata": {},
   "outputs": [],
   "source": [
    "executable_path = {\"executable_path\": ChromeDriverManager().install()}\n",
    "browser = Browser('chrome', **executable_path, headless=False)"
   ]
  },
  {
   "cell_type": "code",
   "execution_count": null,
   "metadata": {},
   "outputs": [],
   "source": [
    "book_name = 'release that witch'\n",
    "book_name = input()"
   ]
  },
  {
   "cell_type": "code",
   "execution_count": null,
   "metadata": {},
   "outputs": [],
   "source": [
    "try:\n",
    "    seperator = '-'\n",
    "    book_name = seperator.join(book_name.split(' '))\n",
    "    url = f\"https://boxnovel.com/novel/{book_name}/\"\n",
    "    browser.visit(url)\n",
    "    if requests.get(url).status_code == 404:\n",
    "        exit()\n",
    "    time.sleep(1)\n",
    "except:\n",
    "    print('Welp me I broke')\n",
    "    exit()\n",
    "html = browser.html\n",
    "soup = BeautifulSoup(html, 'html.parser')\n",
    "container = soup.find_all(\"div\", {\"class\": \"summary-content\"})\n",
    "author = container[3].find(\"div\", {\"class\": \"author-content\"}).find_all('a')"
   ]
  },
  {
   "cell_type": "code",
   "execution_count": null,
   "metadata": {},
   "outputs": [],
   "source": [
    "with open(f'{book_name}.txt', 'w',encoding ='utf8') as out:\n",
    "    chapter = 1\n",
    "    seperator = ', '\n",
    "    author_text = seperator.join([author[0].text, author[1].text])\n",
    "    BookName = ' '.join([word.capitalize() for word in book_name.split('-')])\n",
    "    out.write('\\t\\t\\t\\t\\t\\t\\t\\t\\t\\t\\t\\t'+BookName+'\\n\\n')\n",
    "    out.write('\\t\\t\\t\\t\\t\\t\\t\\t\\t\\t\\t\\t\\t Author:'+author_text+'\\n\\n\\n')\n",
    "    while True:\n",
    "        try:\n",
    "            url = f\"https://boxnovel.com/novel/{book_name}/chapter-{chapter}\"\n",
    "            chapter +=1\n",
    "            browser.visit(url)\n",
    "            time.sleep(5)\n",
    "            \n",
    "            html = browser.html\n",
    "            soup = BeautifulSoup(html, 'html.parser')\n",
    "            try:\n",
    "                container = soup.find_all(\"div\", {\"class\": \"read-container\"})\n",
    "                text_left = container[0].find_all(\"div\", {\"class\": \"text-left\"})\n",
    "                chp_title = text_left[0].find_all(\"p\")[0].text\n",
    "                pgraphs = text_left[0].find_all(\"p\")\n",
    "            except:\n",
    "                print('swomethwing bwroke mwe')\n",
    "                break\n",
    "            pgraphs.pop(0)\n",
    "            chapter_text = [p.text for p in pgraphs]\n",
    "\n",
    "            out.write('-----------------------------------------'+chp_title+'-----------------------------------------\\n\\n')\n",
    "            for text in chapter_text:\n",
    "                out.write('\\t\\t'+text+'\\n\\n')\n",
    "            try :\n",
    "                next_page = browser.driver.find_element_by_class_name('next_page')\n",
    "                next_page.click()\n",
    "            except :\n",
    "                break\n",
    "        except KeyboardInterrupt:\n",
    "            print '\\nPausing...  (Hit ENTER to continue, type quit to exit.)'\n",
    "            try:\n",
    "                response = raw_input()\n",
    "                if response == 'quit':\n",
    "                    break\n",
    "                print 'Resuming...'\n",
    "            except KeyboardInterrupt:\n",
    "                print 'Resuming...'\n",
    "                continue\n",
    "    browser.driver.close()"
   ]
  }
 ],
 "metadata": {
  "kernelspec": {
   "display_name": "Python 3",
   "language": "python",
   "name": "python3"
  },
  "language_info": {
   "codemirror_mode": {
    "name": "ipython",
    "version": 3
   },
   "file_extension": ".py",
   "mimetype": "text/x-python",
   "name": "python",
   "nbconvert_exporter": "python",
   "pygments_lexer": "ipython3",
   "version": "3.7.6"
  }
 },
 "nbformat": 4,
 "nbformat_minor": 4
}
