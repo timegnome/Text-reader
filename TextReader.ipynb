{
 "cells": [
  {
   "cell_type": "code",
   "execution_count": 7,
   "metadata": {},
   "outputs": [],
   "source": [
    "from splinter import Browser\n",
    "from bs4 import BeautifulSoup\n",
    "from webdriver_manager.chrome import ChromeDriverManager\n",
    "import re\n",
    "import pandas as pd\n",
    "import time\n",
    "import requests\n",
    "import sys\n",
    "# import base64, os"
   ]
  },
  {
   "cell_type": "code",
   "execution_count": 10,
   "metadata": {},
   "outputs": [
    {
     "name": "stderr",
     "output_type": "stream",
     "text": [
      "[WDM] - Current google-chrome version is 85.0.4183\n",
      "[WDM] - Get LATEST driver version for 85.0.4183\n",
      "[WDM] - Driver [C:\\Users\\Admin\\.wdm\\drivers\\chromedriver\\win32\\85.0.4183.87\\chromedriver.exe] found in cache\n"
     ]
    },
    {
     "name": "stdout",
     "output_type": "stream",
     "text": [
      " \n"
     ]
    }
   ],
   "source": [
    "executable_path = {\"executable_path\": ChromeDriverManager().install()}\n",
    "browser = Browser('chrome', **executable_path, headless=False)"
   ]
  },
  {
   "cell_type": "code",
   "execution_count": null,
   "metadata": {},
   "outputs": [],
   "source": [
    "book_name = 'release that witch'\n",
    "book_name = input()"
   ]
  },
  {
   "cell_type": "code",
   "execution_count": null,
   "metadata": {},
   "outputs": [],
   "source": [
    "try:\n",
    "    seperator = '-'\n",
    "    book_name = seperator.join(book_name.split(' '))\n",
    "    url = f\"https://boxnovel.com/novel/{book_name}/\"\n",
    "    browser.visit(url)\n",
    "    if requests.get(url).status_code == 404:\n",
    "#         sys.exit()\n",
    "    time.sleep(1)\n",
    "except:\n",
    "    print('Welp me I broke')\n",
    "#     sys.exit()\n",
    "html = browser.html\n",
    "soup = BeautifulSoup(html, 'html.parser')\n",
    "container = soup.find_all(\"div\", {\"class\": \"summary-content\"})\n",
    "author = container[3].find(\"div\", {\"class\": \"author-content\"}).find_all('a')"
   ]
  },
  {
   "cell_type": "code",
   "execution_count": null,
   "metadata": {},
   "outputs": [],
   "source": [
    "with open(f'{book}.txt', 'w',encoding ='utf8') as out:\n",
    "        chapter = 1\n",
    "        seperator = ', '\n",
    "        author_text = seperator.join([author[0].text, author[1].text])\n",
    "        BookName = ' '.join([word.capitalize() for word in book.split('-')])\n",
    "        out.write('\\t\\t\\t\\t\\t\\t\\t\\t\\t\\t\\t\\t'+BookName+'\\n\\n')\n",
    "        out.write('\\t\\t\\t\\t\\t\\t\\t\\t\\t\\t\\t'+ Author:'+author_text+'\\n\\n\\n')\n",
    "        \n",
    "        try:\n",
    "            url = f\"https://boxnovel.com/novel/{book}/chapter-{chapter}\"\n",
    "            chapter +=1\n",
    "            browser.visit(url)\n",
    "            time.sleep(5)\n",
    "            while True:\n",
    "                html = browser.html\n",
    "                soup = BeautifulSoup(html, 'html.parser')\n",
    "                try:\n",
    "                    container = soup.find_all(\"div\", {\"class\": \"read-container\"})\n",
    "                    text_left = container[0].find_all(\"div\", {\"class\": \"text-left\"})\n",
    "                    chp_title = text_left[0].find_all(\"p\")[0].text\n",
    "                    pgraphs = text_left[0].find_all(\"p\")\n",
    "                except:\n",
    "                    print('swomethwing bwroke mwe')\n",
    "                    break\n",
    "                pgraphs.pop(0)\n",
    "                chapter_text = [p.text for p in pgraphs]\n",
    "\n",
    "                out.write('-----------------------------------------'+chp_title+'-----------------------------------------\\n\\n')\n",
    "                for text in chapter_text:\n",
    "                    out.write(text+'\\n\\n')\n",
    "                try :\n",
    "                    next_page = browser.driver.find_element_by_class_name('next_page')\n",
    "                    next_page.click()\n",
    "                except :\n",
    "                    break\n",
    "            except KeyboardInterrupt:\n",
    "                print ('\\nPausing...  (Hit ENTER to continue, type quit to exit.)')\n",
    "                try:\n",
    "                    response = input()\n",
    "                    if response == 'quit':\n",
    "                        break\n",
    "                    print ('Resuming...')\n",
    "                except KeyboardInterrupt:\n",
    "                    print ('Resuming...')\n",
    "                    continue\n",
    "    browser.driver.close()"
   ]
  },
  {
   "cell_type": "code",
   "execution_count": 130,
   "metadata": {},
   "outputs": [
    {
     "name": "stderr",
     "output_type": "stream",
     "text": [
      "[WDM] - Current google-chrome version is 85.0.4183\n",
      "[WDM] - Get LATEST driver version for 85.0.4183\n",
      "[WDM] - Driver [C:\\Users\\Admin\\.wdm\\drivers\\chromedriver\\win32\\85.0.4183.87\\chromedriver.exe] found in cache\n"
     ]
    },
    {
     "name": "stdout",
     "output_type": "stream",
     "text": [
      " \n"
     ]
    }
   ],
   "source": [
    "executable_path = {\"executable_path\": ChromeDriverManager().install()}\n",
    "browser = Browser('chrome', **executable_path, headless=False)\n",
    "book = 'Emperor of Solo Play'\n",
    "# book_name = input()\n",
    "\n",
    "try:\n",
    "    seperator = '-'\n",
    "    book = seperator.join(book.split(' '))\n",
    "    url = f\"https://www.wuxiaworld.co/{book}/\"\n",
    "    browser.visit(url)\n",
    "#     if requests.get(url).status_code == 404:\n",
    "#         browser.driver.close()\n",
    "#         sys.exit()\n",
    "    time.sleep(10)\n",
    "except:\n",
    "    print('Hwelp mwe! I bwroke.')\n",
    "    try:\n",
    "        browser.driver.close()\n",
    "    except:\n",
    "        print('nothing')\n",
    "#         sys.exit()\n",
    "#     sys.exit()\n",
    "html = browser.html\n",
    "soup = BeautifulSoup(html, 'html.parser')\n",
    "container = soup.find_all(\"div\", {\"class\": \"person-info\"})\n",
    "author = container[1].find(\"div\", {\"class\": \"author\"}).find_all('span')[1].text\n",
    "chapter_list = soup.find_all(\"ul\", {\"class\": \"chapter-list\"})\n",
    "chapter_1 = browser.driver.find_element_by_class_name(\"chapter-item\")\n",
    "\n",
    "# In[ ]:"
   ]
  },
  {
   "cell_type": "code",
   "execution_count": 131,
   "metadata": {},
   "outputs": [],
   "source": [
    "with open(f'{book}.txt', 'w',encoding ='utf8') as out:\n",
    "    seperator = ', '\n",
    "    BookName = ' '.join([word.capitalize() for word in book.split('-')])\n",
    "    out.write('\\t\\t\\t\\t\\t\\t\\t\\t\\t\\t\\t\\t'+BookName+'\\n\\n')\n",
    "    out.write('\\t\\t\\t\\t\\t\\t\\t\\t\\t\\t\\t Author:'+author+'\\n\\n\\n')\n",
    "\n",
    "    try:\n",
    "        # url = f\"https://boxnovel.com/novel/{book}/chapter-{chapter}\"\n",
    "        chapter_1.click()\n",
    "        # browser.visit(url)\n",
    "        time.sleep(5)\n",
    "        while True:\n",
    "            try:\n",
    "                html = browser.html\n",
    "                soup = BeautifulSoup(html, 'html.parser')\n",
    "                time.sleep(5)\n",
    "                try:\n",
    "                    container = soup.find_all(\"div\", {\"class\": \"chapter-entity\"})\n",
    "                    title = soup.find_all(\"h1\", {\"class\": \"chapter-title\"})[0].text\n",
    "                    for br in container[0].find_all(\"br\"):\n",
    "                        br.replace_with(\"\\n\")\n",
    "                    chapter_text =re.sub('((\\\\t)*(\\\\n)*[\\w ]* https:[/\\w\\.\\- ]*)', '\\n', container[0].text)\n",
    "                    break\n",
    "                except:\n",
    "                    print('swomethwing bwroke mwe')\n",
    "                    break\n",
    "                break\n",
    "                out.write('-----------------------------------------'+title+'-----------------------------------------\\n\\n')\n",
    "                out.write(chapter_text)\n",
    "                try :\n",
    "                    next_page = browser.driver.find_element_by_class_name('next')\n",
    "                    browser.driver.execute_script(\"arguments[0].scrollIntoView({block: 'center'});\", next_page)\n",
    "                    next_page.click()\n",
    "                except :\n",
    "                    break\n",
    "            except KeyboardInterrupt:\n",
    "                print ('\\nPausing...  (Hit ENTER to continue, type quit to exit.)')\n",
    "                try:\n",
    "                    response = input()\n",
    "                    if response == 'quit':\n",
    "                        break\n",
    "                    print ('Resuming...')\n",
    "                except KeyboardInterrupt:\n",
    "                    print ('Resuming...')\n",
    "                    continue\n",
    "    except:\n",
    "        print('Fwalure')\n",
    "browser.driver.close()"
   ]
  },
  {
   "cell_type": "code",
   "execution_count": 132,
   "metadata": {},
   "outputs": [
    {
     "data": {
      "text/plain": [
       "'\\n                        Prologue\\n\\nI’ve been called trash my whole life.\\n\\nI wasn’t born with any special talent, nor was I better at something than others. So I couldn’t say anything whenever I was called trash. That isn’t to say I never struggled to become better. But at the end of the day, I fell asleep kicking the bed sheets in anger.\\n\\nThis goddamned life.\\n\\nBut for the first time, I found something I was better at than others.\\n\\nVirtual reality (VR) games!\\n\\nIn real life, I was at the bottom of the food chain. But in the virtual world, I was at the top. Even the so called professional-gamers were mere preys in my eyes.\\n\\nTo top it off, you could gain unimaginable wealth and prestige just by being good at gaming. This was the era of VR games.\\n\\nI had no hesitation.\\n\\nTo succeed through gaming, I was prepared to give my life. I did anything to accomplish my goals. Everything was fair in the name of success.\\n\\nIn the end, the goal I’ve been striving for was within my reach, just a hair’s breadth away.\\n\\nJust a bit more, just a bit!\\n\\nI could have reached my goal in just a bit more…\\n\\n“Fuckers.”\\n\\nI never thought my comrades would betray me. The ones I thought would stay by my side until the end.\\n\\n“Fuck.”\\n\\nMy comrades betrayed me, and in an instant, four years of hard work disappeared into the void.\\n\\nI tried to fight back, but I was powerless. A hole had been pierced through my stomach, and I even developed sociophobia.\\n\\n“See if I trust anyone ever again.”\\n\\nWhen I was given a chance to start over, I knew what path to take.\\n\\n“Whatever the outcome, I’ll do it alone… I’ll show you that I can do it alone.”\\n\\nThe Solo Path!\\n\\nThis is how I’ve come to tread this road.\\n\\n\\n                    '"
      ]
     },
     "execution_count": 132,
     "metadata": {},
     "output_type": "execute_result"
    }
   ],
   "source": [
    "chapter_text"
   ]
  },
  {
   "cell_type": "code",
   "execution_count": null,
   "metadata": {},
   "outputs": [],
   "source": []
  }
 ],
 "metadata": {
  "kernelspec": {
   "display_name": "Python 3",
   "language": "python",
   "name": "python3"
  },
  "language_info": {
   "codemirror_mode": {
    "name": "ipython",
    "version": 3
   },
   "file_extension": ".py",
   "mimetype": "text/x-python",
   "name": "python",
   "nbconvert_exporter": "python",
   "pygments_lexer": "ipython3",
   "version": "3.7.6"
  }
 },
 "nbformat": 4,
 "nbformat_minor": 4
}
