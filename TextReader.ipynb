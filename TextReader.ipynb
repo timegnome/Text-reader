{
 "cells": [
  {
   "cell_type": "code",
   "execution_count": 1,
   "metadata": {},
   "outputs": [],
   "source": [
    "from splinter import Browser\n",
    "from bs4 import BeautifulSoup\n",
    "from webdriver_manager.chrome import ChromeDriverManager\n",
    "import re\n",
    "import pandas as pd\n",
    "import time\n",
    "import requests\n",
    "import sys\n",
    "# import base64, os"
   ]
  },
  {
   "cell_type": "code",
   "execution_count": 2,
   "metadata": {},
   "outputs": [
    {
     "name": "stderr",
     "output_type": "stream",
     "text": [
      "[WDM] - Current google-chrome version is 90.0.4430\n",
      "[WDM] - Get LATEST driver version for 90.0.4430\n",
      "[WDM] - Driver [C:\\Users\\Admin\\.wdm\\drivers\\chromedriver\\win32\\90.0.4430.24\\chromedriver.exe] found in cache\n"
     ]
    },
    {
     "name": "stdout",
     "output_type": "stream",
     "text": [
      " \n"
     ]
    }
   ],
   "source": [
    "executable_path = {\"executable_path\": ChromeDriverManager().install()}\n",
    "browser = Browser('chrome', **executable_path, headless=False)"
   ]
  },
  {
   "cell_type": "code",
   "execution_count": 3,
   "metadata": {},
   "outputs": [
    {
     "name": "stdout",
     "output_type": "stream",
     "text": [
      "mages are too op\n"
     ]
    }
   ],
   "source": [
    "book_name = 'release that witch'\n",
    "book_name = input()"
   ]
  },
  {
   "cell_type": "code",
   "execution_count": null,
   "metadata": {},
   "outputs": [],
   "source": [
    "try:\n",
    "    seperator = '-'\n",
    "    book_name = seperator.join(book_name.split(' '))\n",
    "    url = f\"https://boxnovel.com/novel/{book_name}-boxnovel/\"\n",
    "    browser.visit(url)\n",
    "    if requests.get(url).status_code == 404:\n",
    "#         sys.exit()\n",
    "    time.sleep(1)\n",
    "except:\n",
    "    print('Welp me I broke')\n",
    "#     sys.exit()\n",
    "html = browser.html\n",
    "soup = BeautifulSoup(html, 'html.parser')\n",
    "container = soup.find_all(\"div\", {\"class\": \"summary_content\"})\n",
    "author = container[3].find(\"div\", {\"class\": \"author-content\"}).find_all('a')"
   ]
  },
  {
   "cell_type": "code",
   "execution_count": null,
   "metadata": {},
   "outputs": [],
   "source": [
    "with open(f'{book}.txt', 'w',encoding ='utf8') as out:\n",
    "        chapter = 1\n",
    "        seperator = ', '\n",
    "        author_text = seperator.join([author[0].text, author[1].text])\n",
    "        BookName = ' '.join([word.capitalize() for word in book.split('-')])\n",
    "        out.write('\\t\\t\\t\\t\\t\\t\\t\\t\\t\\t\\t\\t'+BookName+'\\n\\n')\n",
    "        out.write('\\t\\t\\t\\t\\t\\t\\t\\t\\t\\t\\t'+ Author:'+author_text+'\\n\\n\\n')\n",
    "        \n",
    "        try:\n",
    "            url = f\"https://boxnovel.com/novel/{book}/chapter-{chapter}\"\n",
    "            chapter +=1\n",
    "            browser.visit(url)\n",
    "            time.sleep(5)\n",
    "            while True:\n",
    "                html = browser.html\n",
    "                soup = BeautifulSoup(html, 'html.parser')\n",
    "                try:\n",
    "                    container = soup.find_all(\"div\", {\"class\": \"read-container\"})\n",
    "                    text_left = container[0].find_all(\"div\", {\"class\": \"text-left\"})\n",
    "                    chp_title = text_left[0].find_all(\"p\")[0].text\n",
    "                    pgraphs = text_left[0].find_all(\"p\")\n",
    "                except:\n",
    "                    print('swomethwing bwroke mwe')\n",
    "                    break\n",
    "                pgraphs.pop(0)\n",
    "                chapter_text = [p.text for p in pgraphs]\n",
    "\n",
    "                out.write('-----------------------------------------'+chp_title+'-----------------------------------------\\n\\n')\n",
    "                for text in chapter_text:\n",
    "                    out.write(text+'\\n\\n')\n",
    "                try :\n",
    "                    next_page = browser.driver.find_element_by_class_name('next_page')\n",
    "                    next_page.click()\n",
    "                except :\n",
    "                    break\n",
    "            except KeyboardInterrupt:\n",
    "                print ('\\nPausing...  (Hit ENTER to continue, type quit to exit.)')\n",
    "                try:\n",
    "                    response = input()\n",
    "                    if response == 'quit':\n",
    "                        break\n",
    "                    print ('Resuming...')\n",
    "                except KeyboardInterrupt:\n",
    "                    print ('Resuming...')\n",
    "                    continue\n",
    "    browser.driver.close()"
   ]
  },
  {
   "cell_type": "code",
   "execution_count": 26,
   "metadata": {},
   "outputs": [
    {
     "name": "stderr",
     "output_type": "stream",
     "text": [
      "[WDM] - Current google-chrome version is 85.0.4183\n",
      "[WDM] - Get LATEST driver version for 85.0.4183\n",
      "[WDM] - Driver [C:\\Users\\Admin\\.wdm\\drivers\\chromedriver\\win32\\85.0.4183.87\\chromedriver.exe] found in cache\n"
     ]
    },
    {
     "name": "stdout",
     "output_type": "stream",
     "text": [
      " \n"
     ]
    }
   ],
   "source": [
    "executable_path = {\"executable_path\": ChromeDriverManager().install()}\n",
    "browser = Browser('chrome', **executable_path, headless=False)\n",
    "book = 'Emperor of Solo Play'\n",
    "# book_name = input()\n",
    "\n",
    "try:\n",
    "    seperator = '-'\n",
    "    book = seperator.join(book.split(' '))\n",
    "    url = f\"https://www.wuxiaworld.co/{book}/\"\n",
    "    browser.visit(url)\n",
    "#     if requests.get(url).status_code == 404:\n",
    "#         browser.driver.close()\n",
    "#         sys.exit()\n",
    "    time.sleep(10)\n",
    "except:\n",
    "    print('Hwelp mwe! I bwroke.')\n",
    "    try:\n",
    "        browser.driver.close()\n",
    "    except:\n",
    "        print('nothing')\n",
    "#         sys.exit()\n",
    "#     sys.exit()\n",
    "html = browser.html\n",
    "soup = BeautifulSoup(html, 'html.parser')\n",
    "container = soup.find_all(\"div\", {\"class\": \"person-info\"})\n",
    "author = container[1].find(\"div\", {\"class\": \"author\"}).find_all('span')[1].text\n",
    "chapter_list = soup.find_all(\"ul\", {\"class\": \"chapter-list\"})\n",
    "chapters = browser.driver.find_elements_by_class_name(\"chapter-item\")\n",
    "\n",
    "# In[ ]:"
   ]
  },
  {
   "cell_type": "code",
   "execution_count": 27,
   "metadata": {},
   "outputs": [],
   "source": [
    "with open(f'{book}.txt', 'w',encoding ='utf8') as out:\n",
    "    seperator = ', '\n",
    "    BookName = ' '.join([word.capitalize() for word in book.split('-')])\n",
    "    out.write('\\t\\t\\t\\t\\t\\t\\t\\t\\t\\t\\t\\t'+BookName+'\\n\\n')\n",
    "    out.write('\\t\\t\\t\\t\\t\\t\\t\\t\\t\\t\\t Author:'+author+'\\n\\n\\n')\n",
    "\n",
    "    try:\n",
    "        # url = f\"https://boxnovel.com/novel/{book}/chapter-{chapter}\"\n",
    "        chapters[185].click()\n",
    "        # browser.visit(url)\n",
    "        time.sleep(5)\n",
    "        while True:\n",
    "            try:\n",
    "                html = browser.html\n",
    "                soup = BeautifulSoup(html, 'html.parser')\n",
    "                time.sleep(5)\n",
    "                try:\n",
    "                    container = soup.find_all(\"div\", {\"class\": \"chapter-entity\"})\n",
    "                    title = soup.find_all(\"h1\", {\"class\": \"chapter-title\"})[0].text\n",
    "                    for br in container[0].find_all(\"br\"):\n",
    "                        br.replace_with(\"\\n\")\n",
    "                    chapter_text =re.sub('((\\\\t)*(\\\\n)*[\\w ]* https:[/\\w\\.\\- ]*)', '\\n', container[0].text)\n",
    "                except:\n",
    "                    print('swomethwing bwroke mwe')\n",
    "                    break\n",
    "                out.write('-----------------------------------------'+title+'-----------------------------------------\\n\\n')\n",
    "                out.write(chapter_text)\n",
    "                try :\n",
    "                    next_page = browser.driver.find_element_by_class_name('next')\n",
    "                    browser.driver.execute_script(\"arguments[0].scrollIntoView({block: 'center'});\", next_page)\n",
    "                    next_page.click()\n",
    "                except :\n",
    "                    break\n",
    "            except KeyboardInterrupt:\n",
    "                print ('\\nPausing...  (Hit ENTER to continue, type quit to exit.)')\n",
    "                try:\n",
    "                    response = input()\n",
    "                    if response == 'quit':\n",
    "                        break\n",
    "                    print ('Resuming...')\n",
    "                except KeyboardInterrupt:\n",
    "                    print ('Resuming...')\n",
    "                    continue\n",
    "    except:\n",
    "        print('Fwalure')\n",
    "browser.driver.close()"
   ]
  },
  {
   "cell_type": "code",
   "execution_count": null,
   "metadata": {},
   "outputs": [],
   "source": [
    "\n",
    "\n",
    "\n",
    "\n"
   ]
  }
 ],
 "metadata": {
  "kernelspec": {
   "display_name": "Python 3",
   "language": "python",
   "name": "python3"
  },
  "language_info": {
   "codemirror_mode": {
    "name": "ipython",
    "version": 3
   },
   "file_extension": ".py",
   "mimetype": "text/x-python",
   "name": "python",
   "nbconvert_exporter": "python",
   "pygments_lexer": "ipython3",
   "version": "3.7.6"
  }
 },
 "nbformat": 4,
 "nbformat_minor": 4
}
